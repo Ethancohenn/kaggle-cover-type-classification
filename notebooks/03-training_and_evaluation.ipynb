{
 "cells": [
  {
   "cell_type": "markdown",
   "id": "4a197840",
   "metadata": {},
   "source": [
    "In this notebook, we evaluate several models: **RandomForest**, **XGBoost**, **Histogram Gradient Boosting**, **LightGBM**, **CatBoost**, and **Extra Trees**."
   ]
  },
  {
   "cell_type": "code",
   "execution_count": 1,
   "id": "42f264ee",
   "metadata": {},
   "outputs": [],
   "source": [
    "import os\n",
    "import sys\n",
    "import joblib\n",
    "\n",
    "os.chdir(\"..\")\n",
    "sys.path.append(os.getcwd())\n",
    "\n",
    "import pandas as pd\n",
    "from src.preprocessing import preprocess_pipeline\n",
    "from src.train_model import MODELS\n",
    "from src.evaluate_model import evaluate_model, cross_validate_model\n",
    "from sklearn.metrics import classification_report\n",
    "from sklearn.preprocessing import LabelEncoder"
   ]
  },
  {
   "cell_type": "code",
   "execution_count": 2,
   "id": "e081efab",
   "metadata": {},
   "outputs": [],
   "source": [
    "X_train, X_val, y_train, y_val, test_df = preprocess_pipeline()"
   ]
  },
  {
   "cell_type": "code",
   "execution_count": 3,
   "id": "97f09cda",
   "metadata": {},
   "outputs": [
    {
     "name": "stdout",
     "output_type": "stream",
     "text": [
      "\n",
      " Classification Report for Random Forest:\n",
      "\n",
      "              precision    recall  f1-score   support\n",
      "\n",
      "           1       0.78      0.81      0.79       216\n",
      "           2       0.82      0.76      0.79       216\n",
      "           3       0.89      0.91      0.90       216\n",
      "           4       0.96      0.97      0.97       216\n",
      "           5       0.94      0.95      0.94       216\n",
      "           6       0.90      0.93      0.91       216\n",
      "           7       0.95      0.92      0.93       216\n",
      "\n",
      "    accuracy                           0.89      1512\n",
      "   macro avg       0.89      0.89      0.89      1512\n",
      "weighted avg       0.89      0.89      0.89      1512\n",
      "\n"
     ]
    }
   ],
   "source": [
    "# model_RF = MODELS[\"random_forest\"](X_train, y_train)\n",
    "#joblib.dump(model_RF, \"models/random_forest_model.joblib\")\n",
    "\n",
    "model_RF = joblib.load(\"models/random_forest_model.joblib\")\n",
    "report_RF = evaluate_model(model_RF, X_val, y_val, model_name = \"Random Forest\")\n",
    "# scores_rf = cross_validate_model(model_RF, X_train, y_train, cv=5, scoring='accuracy')"
   ]
  },
  {
   "cell_type": "code",
   "execution_count": 4,
   "id": "d7d05457",
   "metadata": {},
   "outputs": [
    {
     "name": "stdout",
     "output_type": "stream",
     "text": [
      "\n",
      " Classification Report for XGBoost:\n",
      "\n",
      "              precision    recall  f1-score   support\n",
      "\n",
      "           0       0.81      0.82      0.82       216\n",
      "           1       0.80      0.79      0.80       216\n",
      "           2       0.92      0.91      0.91       216\n",
      "           3       0.98      0.97      0.97       216\n",
      "           4       0.93      0.96      0.95       216\n",
      "           5       0.92      0.94      0.93       216\n",
      "           6       0.98      0.93      0.95       216\n",
      "\n",
      "    accuracy                           0.90      1512\n",
      "   macro avg       0.90      0.90      0.90      1512\n",
      "weighted avg       0.90      0.90      0.90      1512\n",
      "\n"
     ]
    }
   ],
   "source": [
    "label_encoder = LabelEncoder()\n",
    "# model_XGB = MODELS[\"xgboost\"](X_train, y_train)\n",
    "# joblib.dump(model_XGB, \"models/xgboost_model.joblib\")\n",
    "\n",
    "model_XGB = joblib.load(\"models/xgboost_model.joblib\")\n",
    "report_XGB = evaluate_model(model_XGB, X_val, y_val, LabelEncoder(), model_name = \"XGBoost\")\n",
    "y_train_encoded = label_encoder.fit_transform(y_train)\n",
    "# scores_xgb = cross_validate_model(model_XGB, X_train, y_train_encoded, cv=5, scoring='accuracy')"
   ]
  },
  {
   "cell_type": "code",
   "execution_count": 5,
   "id": "b753bd30",
   "metadata": {},
   "outputs": [
    {
     "name": "stdout",
     "output_type": "stream",
     "text": [
      "\n",
      " Classification Report for HGB:\n",
      "\n",
      "              precision    recall  f1-score   support\n",
      "\n",
      "           0       0.84      0.83      0.84       216\n",
      "           1       0.83      0.81      0.82       216\n",
      "           2       0.93      0.94      0.94       216\n",
      "           3       0.98      0.98      0.98       216\n",
      "           4       0.93      0.94      0.94       216\n",
      "           5       0.93      0.95      0.94       216\n",
      "           6       0.97      0.94      0.96       216\n",
      "\n",
      "    accuracy                           0.91      1512\n",
      "   macro avg       0.91      0.91      0.91      1512\n",
      "weighted avg       0.91      0.91      0.91      1512\n",
      "\n"
     ]
    }
   ],
   "source": [
    "# model_HGB = MODELS[\"histogram_gb\"](X_train, y_train)\n",
    "# joblib.dump(model_HGB, \"models/histogram_gb_model.joblib\")\n",
    "\n",
    "model_HGB = joblib.load(\"models/histogram_gb_model.joblib\")\n",
    "report_HGB = evaluate_model(model_HGB, X_val, y_val, LabelEncoder(), model_name = \"HGB\")\n",
    "# scores_hgb = cross_validate_model(model_HGB, X_train, y_train, cv=5, scoring='accuracy')"
   ]
  },
  {
   "cell_type": "code",
   "execution_count": 6,
   "id": "0bcf3808",
   "metadata": {},
   "outputs": [
    {
     "name": "stdout",
     "output_type": "stream",
     "text": [
      "\n",
      " Classification Report for LightGBM:\n",
      "\n",
      "              precision    recall  f1-score   support\n",
      "\n",
      "           1       0.83      0.80      0.81       216\n",
      "           2       0.77      0.80      0.78       216\n",
      "           3       0.93      0.92      0.93       216\n",
      "           4       0.97      0.98      0.97       216\n",
      "           5       0.92      0.94      0.93       216\n",
      "           6       0.92      0.94      0.93       216\n",
      "           7       0.97      0.94      0.95       216\n",
      "\n",
      "    accuracy                           0.90      1512\n",
      "   macro avg       0.90      0.90      0.90      1512\n",
      "weighted avg       0.90      0.90      0.90      1512\n",
      "\n"
     ]
    }
   ],
   "source": [
    "# model_LGBM = MODELS[\"lightgbm\"](X_train, y_train)\n",
    "# joblib.dump(model_LGBM, \"models/lightgbm_model.joblib\")\n",
    "\n",
    "model_LGBM = joblib.load(\"models/lightgbm_model.joblib\")\n",
    "report_LGBM = evaluate_model(model_LGBM, X_val, y_val, model_name = \"LightGBM\")\n",
    "# scores_lgbm = cross_validate_model(model_LGBM, X_train, y_train, cv=5, scoring='accuracy')"
   ]
  },
  {
   "cell_type": "code",
   "execution_count": 7,
   "id": "71c523e5",
   "metadata": {},
   "outputs": [
    {
     "name": "stdout",
     "output_type": "stream",
     "text": [
      "\n",
      " Classification Report for CatBoost:\n",
      "\n",
      "              precision    recall  f1-score   support\n",
      "\n",
      "           0       0.80      0.82      0.81       216\n",
      "           1       0.78      0.81      0.79       216\n",
      "           2       0.89      0.88      0.88       216\n",
      "           3       0.98      0.97      0.97       216\n",
      "           4       0.93      0.90      0.92       216\n",
      "           5       0.89      0.92      0.90       216\n",
      "           6       0.97      0.92      0.94       216\n",
      "\n",
      "    accuracy                           0.89      1512\n",
      "   macro avg       0.89      0.89      0.89      1512\n",
      "weighted avg       0.89      0.89      0.89      1512\n",
      "\n"
     ]
    }
   ],
   "source": [
    "from sklearn.preprocessing import LabelEncoder\n",
    "# model_CB = MODELS[\"catboost\"](X_train, y_train)\n",
    "# joblib.dump(model_CB, \"models/catboost_model.joblib\")\n",
    "\n",
    "model_CB = joblib.load(\"models/catboost_model.joblib\")\n",
    "report_CB = evaluate_model(model_CB, X_val, y_val, LabelEncoder(), model_name = \"CatBoost\")\n",
    "# scores_cb = cross_validate_model(model_CB, X_train, y_train, cv=5, scoring='accuracy')"
   ]
  },
  {
   "cell_type": "code",
   "execution_count": 9,
   "id": "a9612e6c",
   "metadata": {},
   "outputs": [
    {
     "name": "stdout",
     "output_type": "stream",
     "text": [
      "\n",
      " Classification Report for Extra Trees:\n",
      "\n",
      "              precision    recall  f1-score   support\n",
      "\n",
      "           1       0.80      0.81      0.81       216\n",
      "           2       0.85      0.75      0.80       216\n",
      "           3       0.90      0.92      0.91       216\n",
      "           4       0.98      0.98      0.98       216\n",
      "           5       0.94      0.98      0.96       216\n",
      "           6       0.88      0.92      0.90       216\n",
      "           7       0.94      0.94      0.94       216\n",
      "\n",
      "    accuracy                           0.90      1512\n",
      "   macro avg       0.90      0.90      0.90      1512\n",
      "weighted avg       0.90      0.90      0.90      1512\n",
      "\n"
     ]
    }
   ],
   "source": [
    "# model_ET = MODELS[\"extra_trees\"](X_train, y_train)\n",
    "# joblib.dump(model_ET, \"models/extratrees_model.joblib\")\n",
    "\n",
    "model_ET = joblib.load(\"models/extratrees_model.joblib\")\n",
    "report_ET = evaluate_model(model_ET, X_val, y_val, model_name = \"Extra Trees\")\n",
    "#scores_et = cross_validate_model(model_ET, X_train, y_train, cv=5, scoring='accuracy')"
   ]
  },
  {
   "cell_type": "code",
   "execution_count": 10,
   "id": "807cb168",
   "metadata": {},
   "outputs": [
    {
     "data": {
      "text/html": [
       "<div>\n",
       "<style scoped>\n",
       "    .dataframe tbody tr th:only-of-type {\n",
       "        vertical-align: middle;\n",
       "    }\n",
       "\n",
       "    .dataframe tbody tr th {\n",
       "        vertical-align: top;\n",
       "    }\n",
       "\n",
       "    .dataframe thead th {\n",
       "        text-align: right;\n",
       "    }\n",
       "</style>\n",
       "<table border=\"1\" class=\"dataframe\">\n",
       "  <thead>\n",
       "    <tr style=\"text-align: right;\">\n",
       "      <th></th>\n",
       "      <th>F1-Score</th>\n",
       "    </tr>\n",
       "  </thead>\n",
       "  <tbody>\n",
       "    <tr>\n",
       "      <th>Histogram GB</th>\n",
       "      <td>0.914498</td>\n",
       "    </tr>\n",
       "    <tr>\n",
       "      <th>XGBoost</th>\n",
       "      <td>0.902898</td>\n",
       "    </tr>\n",
       "    <tr>\n",
       "      <th>LightGBM</th>\n",
       "      <td>0.901013</td>\n",
       "    </tr>\n",
       "    <tr>\n",
       "      <th>Extra Trees</th>\n",
       "      <td>0.899895</td>\n",
       "    </tr>\n",
       "    <tr>\n",
       "      <th>RandomForest</th>\n",
       "      <td>0.891238</td>\n",
       "    </tr>\n",
       "    <tr>\n",
       "      <th>CatBoost</th>\n",
       "      <td>0.888904</td>\n",
       "    </tr>\n",
       "  </tbody>\n",
       "</table>\n",
       "</div>"
      ],
      "text/plain": [
       "              F1-Score\n",
       "Histogram GB  0.914498\n",
       "XGBoost       0.902898\n",
       "LightGBM      0.901013\n",
       "Extra Trees   0.899895\n",
       "RandomForest  0.891238\n",
       "CatBoost      0.888904"
      ]
     },
     "metadata": {},
     "output_type": "display_data"
    }
   ],
   "source": [
    "#Comparison of Model Performance\n",
    "\n",
    "performance_summary = {\n",
    "    \"RandomForest\": {\n",
    "        \"F1-Score\": report_RF[\"weighted avg\"][\"f1-score\"]\n",
    "    },\n",
    "    \"XGBoost\": {\n",
    "        \"F1-Score\": report_XGB[\"weighted avg\"][\"f1-score\"]\n",
    "    },\n",
    "    \"Histogram GB\": {\n",
    "        \"F1-Score\": report_HGB[\"weighted avg\"][\"f1-score\"]\n",
    "    },\n",
    "    \"LightGBM\": {\n",
    "        \"F1-Score\": report_LGBM[\"weighted avg\"][\"f1-score\"]\n",
    "    },\n",
    "    \"CatBoost\": {\n",
    "        \"F1-Score\": report_CB[\"weighted avg\"][\"f1-score\"]\n",
    "    },\n",
    "    \"Extra Trees\": {\n",
    "        \"F1-Score\": report_ET[\"weighted avg\"][\"f1-score\"]\n",
    "    }\n",
    "}\n",
    "\n",
    "performance_df = pd.DataFrame(performance_summary).T\n",
    "\n",
    "display(performance_df.sort_values(by=\"F1-Score\", ascending=False))"
   ]
  }
 ],
 "metadata": {
  "kernelspec": {
   "display_name": "Python 3",
   "language": "python",
   "name": "python3"
  },
  "language_info": {
   "codemirror_mode": {
    "name": "ipython",
    "version": 3
   },
   "file_extension": ".py",
   "mimetype": "text/x-python",
   "name": "python",
   "nbconvert_exporter": "python",
   "pygments_lexer": "ipython3",
   "version": "3.11.9"
  }
 },
 "nbformat": 4,
 "nbformat_minor": 5
}
