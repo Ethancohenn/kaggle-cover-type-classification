{
 "cells": [
  {
   "cell_type": "code",
   "execution_count": 1,
   "id": "42f264ee",
   "metadata": {},
   "outputs": [],
   "source": [
    "import os\n",
    "import sys\n",
    "import joblib\n",
    "\n",
    "os.chdir(\"..\")\n",
    "sys.path.append(os.getcwd())\n",
    "\n",
    "import pandas as pd\n",
    "from src.preprocessing import preprocess_pipeline\n",
    "from src.train_model import MODELS\n",
    "from sklearn.metrics import classification_report"
   ]
  },
  {
   "cell_type": "code",
   "execution_count": 2,
   "id": "e081efab",
   "metadata": {},
   "outputs": [],
   "source": [
    "X_train, X_val, y_train, y_val, test_df = preprocess_pipeline()"
   ]
  },
  {
   "cell_type": "code",
   "execution_count": 3,
   "id": "97f09cda",
   "metadata": {},
   "outputs": [
    {
     "name": "stdout",
     "output_type": "stream",
     "text": [
      "              precision    recall  f1-score   support\n",
      "\n",
      "           1       0.78      0.81      0.79       216\n",
      "           2       0.82      0.76      0.79       216\n",
      "           3       0.89      0.91      0.90       216\n",
      "           4       0.96      0.97      0.97       216\n",
      "           5       0.94      0.95      0.94       216\n",
      "           6       0.90      0.93      0.91       216\n",
      "           7       0.95      0.92      0.93       216\n",
      "\n",
      "    accuracy                           0.89      1512\n",
      "   macro avg       0.89      0.89      0.89      1512\n",
      "weighted avg       0.89      0.89      0.89      1512\n",
      "\n"
     ]
    }
   ],
   "source": [
    "# model_RF = MODELS[\"random_forest\"](X_train, y_train)\n",
    "#joblib.dump(model_RF, \"models/random_forest_model.joblib\")\n",
    "\n",
    "model_RF = joblib.load(\"models/random_forest_model.joblib\")\n",
    "y_pred = model_RF.predict(X_val)\n",
    "print(classification_report(y_val, y_pred))"
   ]
  },
  {
   "cell_type": "code",
   "execution_count": 4,
   "id": "d7d05457",
   "metadata": {},
   "outputs": [
    {
     "name": "stdout",
     "output_type": "stream",
     "text": [
      "              precision    recall  f1-score   support\n",
      "\n",
      "           0       0.81      0.82      0.82       216\n",
      "           1       0.80      0.79      0.80       216\n",
      "           2       0.92      0.91      0.91       216\n",
      "           3       0.98      0.97      0.97       216\n",
      "           4       0.93      0.96      0.95       216\n",
      "           5       0.92      0.94      0.93       216\n",
      "           6       0.98      0.93      0.95       216\n",
      "\n",
      "    accuracy                           0.90      1512\n",
      "   macro avg       0.90      0.90      0.90      1512\n",
      "weighted avg       0.90      0.90      0.90      1512\n",
      "\n"
     ]
    }
   ],
   "source": [
    "# from sklearn.preprocessing import LabelEncoder\n",
    "# label_encoder = LabelEncoder()\n",
    "# model_XGB = MODELS[\"xgboost\"](X_train, y_train)\n",
    "# joblib.dump(model_XGB, \"models/xgboost_model.joblib\")\n",
    "\n",
    "model_XGB = joblib.load(\"models/xgboost_model.joblib\")\n",
    "y_pred = model_XGB.predict(X_val)\n",
    "y_val_encoded = model_XGB.label_encoder.transform(y_val)\n",
    "print(classification_report(y_val_encoded, y_pred))"
   ]
  },
  {
   "cell_type": "code",
   "execution_count": null,
   "id": "b753bd30",
   "metadata": {},
   "outputs": [
    {
     "ename": "TypeError",
     "evalue": "cannot unpack non-iterable HistGradientBoostingClassifier object",
     "output_type": "error",
     "traceback": [
      "\u001b[1;31m---------------------------------------------------------------------------\u001b[0m",
      "\u001b[1;31mTypeError\u001b[0m                                 Traceback (most recent call last)",
      "Cell \u001b[1;32mIn[6], line 1\u001b[0m\n\u001b[1;32m----> 1\u001b[0m model_HGB, label_encoder \u001b[38;5;241m=\u001b[39m MODELS[\u001b[38;5;124m\"\u001b[39m\u001b[38;5;124mhistogram_gb\u001b[39m\u001b[38;5;124m\"\u001b[39m](X_train, y_train)\n\u001b[0;32m      2\u001b[0m y_pred \u001b[38;5;241m=\u001b[39m model_HGB\u001b[38;5;241m.\u001b[39mpredict(X_val)\n\u001b[0;32m      3\u001b[0m y_val_encoded \u001b[38;5;241m=\u001b[39m label_encoder\u001b[38;5;241m.\u001b[39mtransform(y_val)\n",
      "\u001b[1;31mTypeError\u001b[0m: cannot unpack non-iterable HistGradientBoostingClassifier object"
     ]
    }
   ],
   "source": [
    "# model_HGB, label_encoder = MODELS[\"histogram_gb\"](X_train, y_train)\n",
    "# y_pred = model_HGB.predict(X_val)\n",
    "# y_val_encoded = label_encoder.transform(y_val)\n",
    "# print(classification_report(y_val_encoded, y_pred))\n",
    "# joblib.dump(model_HGB, \"models/histogram_gb_model.joblib\")\n",
    "\n",
    "# model_RF = joblib.load(\"models/random_forest_model.joblib\")\n",
    "\n"
   ]
  }
 ],
 "metadata": {
  "kernelspec": {
   "display_name": "Python 3",
   "language": "python",
   "name": "python3"
  },
  "language_info": {
   "codemirror_mode": {
    "name": "ipython",
    "version": 3
   },
   "file_extension": ".py",
   "mimetype": "text/x-python",
   "name": "python",
   "nbconvert_exporter": "python",
   "pygments_lexer": "ipython3",
   "version": "3.11.9"
  }
 },
 "nbformat": 4,
 "nbformat_minor": 5
}
